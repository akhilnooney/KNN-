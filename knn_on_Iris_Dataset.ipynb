{
  "nbformat": 4,
  "nbformat_minor": 0,
  "metadata": {
    "colab": {
      "name": "knn on Iris Dataset.ipynb",
      "provenance": []
    },
    "kernelspec": {
      "name": "python3",
      "display_name": "Python 3"
    }
  },
  "cells": [
    {
      "cell_type": "code",
      "metadata": {
        "id": "N9T_VlnMU2-m"
      },
      "source": [
        "import numpy as np\n",
        "import pandas as pd\n",
        "from matplotlib import pyplot as plt\n",
        "from sklearn import datasets\n",
        "from sklearn.model_selection import train_test_split,cross_val_score\n",
        "from sklearn.neighbors import KNeighborsClassifier\n",
        "from sklearn.metrics import accuracy_score\n",
        "from sklearn.preprocessing import StandardScaler\n",
        "from sklearn.metrics import classification_report,confusion_matrix\n",
        "iris = datasets.load_iris() #To load Iris Dataset"
      ],
      "execution_count": null,
      "outputs": []
    },
    {
      "cell_type": "code",
      "metadata": {
        "id": "dOoZp2_hVAKP"
      },
      "source": [
        "df=pd.DataFrame(iris.data, columns=iris.feature_names)\n",
        "df[\"target\"]=iris[\"target\"]\n",
        "sc=StandardScaler()\n",
        "sc.fit(df.drop('target',axis=1))\n",
        "scalar_df= sc.transform(df.drop('target',axis=1))\n",
        "scalar_df=pd.DataFrame(scalar_df,columns=iris.feature_names)\n",
        "scalar_df[\"target\"]=iris[\"target\"]"
      ],
      "execution_count": null,
      "outputs": []
    },
    {
      "cell_type": "code",
      "metadata": {
        "id": "UVUM_MbXVCy9"
      },
      "source": [
        "x=scalar_df.drop(['target'],axis=1).values\n",
        "y=scalar_df['target'].values\n",
        "x_train,x_test,y_train,y_test=train_test_split(x,y,test_size=0.33,random_state=45)#Train and Test data\n",
        "def K_Accuracy(n):\n",
        "    Model=KNeighborsClassifier(n_neighbors=n).fit(x_train,y_train)\n",
        "    prediction=Model.predict(x_test)#Model prediction\n",
        "    return prediction,n"
      ],
      "execution_count": null,
      "outputs": []
    },
    {
      "cell_type": "code",
      "metadata": {
        "id": "Ejh8-SLoe0Nz",
        "colab": {
          "base_uri": "https://localhost:8080/"
        },
        "outputId": "ca91cad6-771d-450d-bb4b-1cf3463b32af"
      },
      "source": [
        "a,b=K_Accuracy(6)\n",
        "print(f\"Accuracy Score when K is {b} : {accuracy_score(y_test,a)}\")\n",
        "print(confusion_matrix(y_test,a))"
      ],
      "execution_count": null,
      "outputs": [
        {
          "output_type": "stream",
          "text": [
            "Accuracy Score when K is 6 : 0.94\n",
            "[[19  0  0]\n",
            " [ 0 14  0]\n",
            " [ 0  3 14]]\n"
          ],
          "name": "stdout"
        }
      ]
    },
    {
      "cell_type": "code",
      "metadata": {
        "id": "mZKcca8ofF8I",
        "colab": {
          "base_uri": "https://localhost:8080/"
        },
        "outputId": "aaa41a5b-3265-47f2-809d-1123ff9e2b7b"
      },
      "source": [
        "print(classification_report(y_test,a))"
      ],
      "execution_count": null,
      "outputs": [
        {
          "output_type": "stream",
          "text": [
            "              precision    recall  f1-score   support\n",
            "\n",
            "           0       1.00      1.00      1.00        19\n",
            "           1       0.82      1.00      0.90        14\n",
            "           2       1.00      0.82      0.90        17\n",
            "\n",
            "    accuracy                           0.94        50\n",
            "   macro avg       0.94      0.94      0.94        50\n",
            "weighted avg       0.95      0.94      0.94        50\n",
            "\n"
          ],
          "name": "stdout"
        }
      ]
    },
    {
      "cell_type": "code",
      "metadata": {
        "id": "n8GtgQyeZ_BK",
        "colab": {
          "base_uri": "https://localhost:8080/"
        },
        "outputId": "e7a21b27-2f19-466d-926e-64ca8b169461"
      },
      "source": [
        "#Cross-Validation\n",
        "cv_scores=[]\n",
        "kvalues=list(range(1,50,2))\n",
        "for K in range(1,50,2):# perform 10-fold cross validation\n",
        "    knn = KNeighborsClassifier(n_neighbors=K)#Model \n",
        "    score = cross_val_score(knn, x_train, y_train, cv=10, scoring='accuracy')#perform Crossvalidation\n",
        "    cv_scores.append(score.mean())\n",
        "K_Value = kvalues[cv_scores.index(max(cv_scores))]\n",
        "print(f\"Best K Value :{K_Value}\")"
      ],
      "execution_count": null,
      "outputs": [
        {
          "output_type": "stream",
          "text": [
            "Best K Value :5\n"
          ],
          "name": "stdout"
        }
      ]
    },
    {
      "cell_type": "code",
      "metadata": {
        "id": "4IcLqf43n8lw",
        "colab": {
          "base_uri": "https://localhost:8080/"
        },
        "outputId": "117f5103-4642-4178-816e-965a55ae0b50"
      },
      "source": [
        "a,b=K_Accuracy(K_Value)\n",
        "print(f\"Accuracy Score when K is {b} : {accuracy_score(y_test,a)}\")\n",
        "print(confusion_matrix(y_test,a))\n",
        "print(classification_report(y_test,a))\n"
      ],
      "execution_count": null,
      "outputs": [
        {
          "output_type": "stream",
          "text": [
            "Accuracy Score when K is 5 : 0.94\n",
            "[[19  0  0]\n",
            " [ 0 14  0]\n",
            " [ 0  3 14]]\n",
            "              precision    recall  f1-score   support\n",
            "\n",
            "           0       1.00      1.00      1.00        19\n",
            "           1       0.82      1.00      0.90        14\n",
            "           2       1.00      0.82      0.90        17\n",
            "\n",
            "    accuracy                           0.94        50\n",
            "   macro avg       0.94      0.94      0.94        50\n",
            "weighted avg       0.95      0.94      0.94        50\n",
            "\n"
          ],
          "name": "stdout"
        }
      ]
    },
    {
      "cell_type": "code",
      "metadata": {
        "id": "p4I_pwjqmbot",
        "colab": {
          "base_uri": "https://localhost:8080/",
          "height": 423
        },
        "outputId": "6cba020c-f93a-4e51-eb7c-04bbbf1d1dc4"
      },
      "source": [
        "#Visualization\n",
        "\n",
        "plt.figure(figsize=(10,6))\n",
        "plt.plot(kvalues,cv_scores,color='green')\n",
        "plt.title('K Value Accuracy')\n",
        "plt.xlabel('K_Value')\n",
        "plt.ylabel('Accuracy')"
      ],
      "execution_count": null,
      "outputs": [
        {
          "output_type": "execute_result",
          "data": {
            "text/plain": [
              "Text(0, 0.5, 'Accuracy')"
            ]
          },
          "metadata": {
            "tags": []
          },
          "execution_count": 101
        },
        {
          "output_type": "display_data",
          "data": {
            "image/png": "[encoded data removed]",
            "text/plain": [
              "<Figure size 720x432 with 1 Axes>"
            ]
          },
          "metadata": {
            "tags": [],
            "needs_background": "light"
          }
        }
      ]
    },
    {
      "cell_type": "code",
      "metadata": {
        "id": "X9iMD74her5f"
      },
      "source": [
        "sns.scatterplot(x=df4.index,y=df4.Actual.Test,marker='+',label='original')\n",
        "sns.scatterplot(x=predicted_values.index,y=predicted_values.predicted_values,marker='o',label='predicted')"
      ],
      "execution_count": null,
      "outputs": []
    }
  ]
}